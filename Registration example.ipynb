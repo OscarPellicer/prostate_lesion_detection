{
 "cells": [
  {
   "cell_type": "markdown",
   "metadata": {},
   "source": [
    "# Example of automatic prostate mpMRI registration"
   ]
  },
  {
   "cell_type": "markdown",
   "metadata": {},
   "source": [
    "This Notebook can be used to automatically (or semi-automatically) register different imaging modalities. Here, it will be used to automatically register the prostate MR ADC map to the MR T2 sequence."
   ]
  },
  {
   "cell_type": "markdown",
   "metadata": {},
   "source": [
    "To get some images to test this Notebook on, please run ``ProstateX_processing.ipynb`` first, with ``apply_registration`` set to ``False``."
   ]
  },
  {
   "cell_type": "markdown",
   "metadata": {},
   "source": [
    "We will need ``plot_lib`` to visualize the images as they are processed:\n",
    " - `plot_lib`: https://github.com/OscarPellicer/plot_lib"
   ]
  },
  {
   "cell_type": "code",
   "execution_count": 1,
   "metadata": {},
   "outputs": [
    {
     "data": {
      "text/html": [
       "<style>.output { flex-direction: row; flex-wrap: wrap; }\n",
       "         .widget-hslider { width: auto; } </style>"
      ],
      "text/plain": [
       "<IPython.core.display.HTML object>"
      ]
     },
     "execution_count": 1,
     "metadata": {},
     "output_type": "execute_result"
    }
   ],
   "source": [
    "#Import plot_lib\n",
    "from pathlib import Path\n",
    "import sys, os\n",
    "sys.path.append(os.path.join(Path.home(), 'plot_lib'))\n",
    "from plot_lib import plot_alpha, plot_multi_mask, plot, plot4\n",
    "\n",
    "#Some CSS to allow images to display side by side by default\n",
    "br= lambda: print(' '*100) #Insert a line that breaks flexbox wrapping\n",
    "from IPython.display import display, HTML\n",
    "CSS = \"\"\".output { flex-direction: row; flex-wrap: wrap; }\n",
    "         .widget-hslider { width: auto; } \"\"\"\n",
    "HTML('<style>{}</style>'.format(CSS))"
   ]
  },
  {
   "cell_type": "markdown",
   "metadata": {},
   "source": [
    "Load required libraries"
   ]
  },
  {
   "cell_type": "code",
   "execution_count": 2,
   "metadata": {},
   "outputs": [],
   "source": [
    "%load_ext autoreload\n",
    "%autoreload 2\n",
    "%matplotlib inline\n",
    "\n",
    "#Basic libraries\n",
    "import SimpleITK as sitk\n",
    "import numpy as np\n",
    "import pandas as pd\n",
    "import matplotlib.pyplot as plt\n",
    "import pydicom\n",
    "import os\n",
    "import glob\n",
    "import pickle\n",
    "from functools import partial\n",
    "\n",
    "#Data processing lib\n",
    "from preprocessing_lib import (ImageDataset, info as info_sitk, grow_regions_sitk,\n",
    "                              join_sitk_images, join_masks, rescale_intensity, \n",
    "                              center_image, get_blank_image,\n",
    "                              ProgressBar, EasyTimer)\n",
    "from reg_lib import (register_rigid, register_spline, get_gradient_features, evaluate_registration, \n",
    "                     save_transform_auto, save_transform)\n",
    "\n",
    "#Show interactive buttons\n",
    "import ipywidgets as widgets\n",
    "from IPython.display import display"
   ]
  },
  {
   "cell_type": "markdown",
   "metadata": {},
   "source": [
    "## Configuration"
   ]
  },
  {
   "cell_type": "markdown",
   "metadata": {},
   "source": [
    "### How it works\n",
    "\n",
    "The last cell of this Notebook will go over a loop of ``patient_ids``, calling ``get_data(patient_id)`` for every patient, which returns all the information needed for performing registration on that patient (at least, a ``fixed_image`` and a ``moving_image``.\n",
    "\n",
    "Then, the registration algorithm will attempt to find the transform that makes ``moving_image`` match ``fixed_image`` as best as possible in terms of ``Mattes Mutual Information`` metric. There are two registration methods available: ``register_rigid`` and ``register_spline``. \n",
    "\n",
    "The algorithm attempts this registration ``RUNS`` (e.g. 50) times (with a different random initialization each time), and then the best ``PLOT_BEST_N`` (e.g. 2) registrations (in terms of ``Mattes Mutual Information`` and a custom metric defined in function ``evaluate_registration``) are plotted. \n",
    "\n",
    "By default, the first best registration is kept, but, after the Notebook has finished, there will be buttons that will allow to manually keep other registrations that might be perceived to be better (Button: ``Save this one``), as well as a button allowing to keep none (Button: ``Original was better``); this last button will instead save an identity transformation. Please note that these buttons will not work while the registration loop is still running!"
   ]
  },
  {
   "cell_type": "code",
   "execution_count": 3,
   "metadata": {
    "scrolled": true
   },
   "outputs": [],
   "source": [
    "#Base path\n",
    "BASE_PATH= ''\n",
    "\n",
    "#Path were images are located\n",
    "IMAGES_PATH= os.path.join(BASE_PATH, 'out_unregistered')\n",
    "\n",
    "#Create directory to save transforms\n",
    "transform_dir= os.path.join(BASE_PATH, 'transforms2')\n",
    "os.makedirs(transform_dir, exist_ok=True)\n",
    "\n",
    "#Create directory to save registration samples to quicly visualize results if SAVE_IMGS==True\n",
    "image_save_dir= os.path.join(BASE_PATH, 'registration_pngs')\n",
    "os.makedirs(image_save_dir, exist_ok=True)\n",
    "\n",
    "#Main configuration parameters\n",
    "REGISTRATION_CHANNEL= 3  #Values: 1: B500, 2:B800+, 3:ADC | Default: 3\n",
    "METHOD= register_spline  #Values: register_rigid, register_spline | Default: register_spline\n",
    "RUNS= 50                 #Number of runs for the registration algorithm\n",
    "SAVE_IMGS= False         #Save images with the registration results\n",
    "PLOT_BEST_N= 2           #How many results to show\n",
    "\n",
    "#Create an easy timer for timing registration times\n",
    "ET= EasyTimer()"
   ]
  },
  {
   "cell_type": "markdown",
   "metadata": {},
   "source": [
    "Configure the data loading routines. We must define at least the following functions:\n",
    " - `get_data(patient_id)` returns:\n",
    "    1. Fixed image wrt which registration is to be performed \n",
    "    1. Moving image to which the transformation is to be applied\n",
    "    1. List of masks to evaluate the custom metric on \n",
    "    1. List of factors for the custom metric\n",
    " \n",
    "Also, we must set the following list:\n",
    " - `patient_ids`: IDs over which to iterate and pass to `get_data`"
   ]
  },
  {
   "cell_type": "code",
   "execution_count": 4,
   "metadata": {},
   "outputs": [
    {
     "name": "stdout",
     "output_type": "stream",
     "text": [
      "Patient IDs to register (N=21):\n",
      " ['ProstateX-0000', 'ProstateX-0001', 'ProstateX-0002', 'ProstateX-0003', 'ProstateX-0004', 'ProstateX-0005', 'ProstateX-0006', 'ProstateX-0007', 'ProstateX-0008', 'ProstateX-0009', 'ProstateX-0010', 'ProstateX-0011', 'ProstateX-0012', 'ProstateX-0013', 'ProstateX-0014', 'ProstateX-0015', 'ProstateX-0016', 'ProstateX-0017', 'ProstateX-0018', 'ProstateX-0019', 'ProstateX-0020']\n"
     ]
    }
   ],
   "source": [
    "#Define get_data funtion\n",
    "def get_data(pid):\n",
    "    #Load image and masks\n",
    "    #Please, work with medical imaging formats (dicom, nrrd, etc.) when possible\n",
    "    #to avoid problems with physical position, orientation, and spacing\n",
    "    spacing= (0.5, 0.5, 3)\n",
    "    img= sitk.GetImageFromArray(np.load(os.path.join(IMAGES_PATH, pid + '_img.npy')))\n",
    "    img.SetSpacing(spacing)\n",
    "    \n",
    "    #The fixed image is the T2\n",
    "    fixed_image= sitk.VectorIndexSelectionCast(img, 0)\n",
    "    \n",
    "    #The image to be registered is at the REGISTRATION_CHANNEL\n",
    "    moving_image= sitk.VectorIndexSelectionCast(img, REGISTRATION_CHANNEL)\n",
    "    \n",
    "    #Obtain the masks to apply the custom metric using them\n",
    "    cz_mask= sitk.VectorIndexSelectionCast(img, 6)\n",
    "    pz_mask= sitk.VectorIndexSelectionCast(img, 7)\n",
    "    \n",
    "    return fixed_image, moving_image, [pz_mask, cz_mask], [1.5,0.75]\n",
    "    \n",
    "#Obtain the patient_ids from the names of the images in IMAGES_PATH\n",
    "patient_ids= [id[:-8] for id in os.listdir(IMAGES_PATH) if id[-8:] == '_img.npy']\n",
    "\n",
    "#Show some info\n",
    "print('Patient IDs to register (N=%d):\\n'%len(patient_ids), patient_ids)"
   ]
  },
  {
   "cell_type": "markdown",
   "metadata": {},
   "source": [
    "## Registration"
   ]
  },
  {
   "cell_type": "markdown",
   "metadata": {},
   "source": [
    "Perform the registration"
   ]
  },
  {
   "cell_type": "code",
   "execution_count": null,
   "metadata": {},
   "outputs": [],
   "source": [
    "for pid in patient_ids:\n",
    "    #Check if transform already exists and ignore patient\n",
    "    if os.path.exists(os.path.join(transform_dir, pid + '.tfm')):\n",
    "        continue\n",
    "    else:\n",
    "        #Load fixed, moving and mask\n",
    "        print(pid, '-'*20); br()\n",
    "        try:\n",
    "            fixed_image, moving_image, mask_list, factors= get_data(pid)\n",
    "        except Exception as e:\n",
    "            print('An exception occured loading the data:', e)\n",
    "            save_transform_auto(pid, sitk.Euler3DTransform(), transform_dir)\n",
    "            continue\n",
    "\n",
    "        #Get lists of results + utilities\n",
    "        results=[]\n",
    "        ET.reset()\n",
    "        PB= ProgressBar(RUNS)\n",
    "\n",
    "        #Loop\n",
    "        for i in range(RUNS):\n",
    "            PB.go(i)\n",
    "            try:\n",
    "                #Gradient computation\n",
    "                fixed_image_reg= get_gradient_features(fixed_image) \n",
    "                moving_image_reg= -get_gradient_features(moving_image)\n",
    "\n",
    "                #Perform registration\n",
    "                transform, metric= METHOD(fixed_image_reg, moving_image_reg, show_progress=False, verbose=False)\n",
    "                registered_image= sitk.Resample(moving_image, fixed_image, transform, \n",
    "                         sitk.sitkLinear, 0.0, moving_image.GetPixelID())\n",
    "\n",
    "                #Get custom metric\n",
    "                registered_image_reg= -get_gradient_features(registered_image)\n",
    "                custom_metric, values= evaluate_registration(fixed_image_reg, moving_image_reg, \n",
    "                                                             registered_image_reg, mask_list, factors)\n",
    "\n",
    "                #Save in list\n",
    "                results.append((custom_metric, transform, values, metric/2))\n",
    "\n",
    "            except Exception as e:\n",
    "                print('Exception:', e)\n",
    "                raise e\n",
    "\n",
    "        print(' ', end=''); ET.time()\n",
    "\n",
    "        #Sort and save best\n",
    "        results= sorted(results, key= lambda i: i[0] + i[3]) #0: custom metric, 3: metric\n",
    "        save_transform_auto(pid, results[0][1], transform_dir) #First (0), transform item (1)\n",
    "        br()\n",
    "\n",
    "        #Plot T2\n",
    "        plot(fixed_image, masks=mask_list, title='Reference', \n",
    "             save_as='%s/%s_T2'%(image_save_dir, pid) if SAVE_IMGS else None)\n",
    "\n",
    "        #Plot best and worst\n",
    "        for i, (custom_metric, transform, values, metric) in enumerate(results[:PLOT_BEST_N]):\n",
    "\n",
    "            print('Metrics:', metric, custom_metric); br()\n",
    "            registered_image= sitk.Resample(moving_image, fixed_image, transform, \n",
    "                         sitk.sitkLinear, 0.0, moving_image.GetPixelID())\n",
    "\n",
    "            #Plot images to compare\n",
    "            plot(moving_image, masks=mask_list, title='Before', \n",
    "                 save_as='%s/%s_before'%(image_save_dir, pid) if i==0 and SAVE_IMGS else None)\n",
    "            plot(registered_image, masks=mask_list , title='After', \n",
    "                 save_as='%s/%s_after'%(image_save_dir, pid) if i==0 and SAVE_IMGS else None)\n",
    "\n",
    "            plot_alpha(fixed_image, moving_image, masks=mask_list, title='Before', color='r', alpha=0.5)\n",
    "            plot_alpha(fixed_image, registered_image, masks=mask_list, title='After', color='r', alpha=0.5)\n",
    "\n",
    "            #Add button to save transform\n",
    "            button = widgets.Button(description='Save this one')\n",
    "            button.on_click(partial(save_transform, pid=pid, transform=sitk.Transform(transform), \n",
    "                                    transform_dir=transform_dir))\n",
    "            display(button)\n",
    "\n",
    "        button = widgets.Button(description='Original was better')\n",
    "        button.on_click(partial(save_transform, pid=pid, transform=sitk.Euler3DTransform(), \n",
    "                                transform_dir=transform_dir))\n",
    "        display(button)\n",
    "\n",
    "        #break"
   ]
  }
 ],
 "metadata": {
  "kernelspec": {
   "display_name": "Python 3",
   "language": "python",
   "name": "python3"
  },
  "language_info": {
   "codemirror_mode": {
    "name": "ipython",
    "version": 3
   },
   "file_extension": ".py",
   "mimetype": "text/x-python",
   "name": "python",
   "nbconvert_exporter": "python",
   "pygments_lexer": "ipython3",
   "version": "3.7.7"
  }
 },
 "nbformat": 4,
 "nbformat_minor": 4
}
